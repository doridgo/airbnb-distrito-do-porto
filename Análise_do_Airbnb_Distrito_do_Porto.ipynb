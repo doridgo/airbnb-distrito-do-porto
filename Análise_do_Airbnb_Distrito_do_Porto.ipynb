{
  "nbformat": 4,
  "nbformat_minor": 0,
  "metadata": {
    "colab": {
      "name": "Análise do Airbnb - Distrito do Porto",
      "provenance": [],
      "collapsed_sections": [],
      "include_colab_link": true
    },
    "kernelspec": {
      "name": "python3",
      "display_name": "Python 3"
    }
  },
  "cells": [
    {
      "cell_type": "markdown",
      "metadata": {
        "id": "view-in-github",
        "colab_type": "text"
      },
      "source": [
        "<a href=\"https://colab.research.google.com/github/doridgo/airbnb-distrito-do-porto/blob/main/An%C3%A1lise_do_Airbnb_Distrito_do_Porto.ipynb\" target=\"_parent\"><img src=\"https://colab.research.google.com/assets/colab-badge.svg\" alt=\"Open In Colab\"/></a>"
      ]
    },
    {
      "cell_type": "markdown",
      "metadata": {
        "id": "kLI0gJtzDGuQ"
      },
      "source": [
        "# **Análise do Airbnb - Distrito do Porto**\n",
        "\n",
        "O Porto é um distrito português muito conhecido mundialmente pelo seu aspecto turístico, com bonitas paisagens e muitas atrações históricas e culturais. Este distrito acaba atraindo muitos brasileiros, tanto enquanto turistas como também aspirantes a cidadãos portugueses! \n",
        "\n",
        "Isso acontece por se tratar de um país que oferece uma facilidade maior na imigração de brasileiros em relação aos demais países do velho continente. Além disso, a língua acaba também sendo mais um fator positivo na escolha do destino.\n",
        "\n",
        "Dito isto, vemos a necessidade de explorar os dados relacionados a hospedagem nesse terreno fértil para brasileiros - que é o Distrito do Porto!\n",
        "\n",
        "Para tanto, utilizaremos como fonte dos dados o Airbnb, que é considerado como sendo a **maior empresa hoteleira da atualidade**, mesmo sem possuir nenhum hotel!\n",
        "\n",
        "Conectando pessoas que querem viajar (e se hospedar) com anfitriões que querem alugar seus imóveis de maneira prática, o Airbnb fornece uma plataforma inovadora para tornar essa hospedagem alternativa.\n",
        "\n",
        "No final de 2018, a Startup fundada 10 anos atrás, já havia **hospedado mais de 300 milhões** de pessoas ao redor de todo o mundo, desafiando as redes hoteleiras tradicionais.\n",
        "\n",
        "Uma das iniciativas do Airbnb é disponibilizar dados do site, para algumas das principais cidades do mundo. Por meio do portal [Inside Airbnb](http://insideairbnb.com/get-the-data.html), é possível baixar uma grande quantidade de dados para desenvolver projetos e soluções de *Data Science*.\n",
        "\n",
        "<center><img alt=\"Analisando Airbnb\" width=\"10%\" src=\"https://www.area360.com.au/wp-content/uploads/2017/09/airbnb-logo.jpg\"></center>\n",
        "\n",
        "**Neste *notebook*, iremos analisar os dados referentes à cidade do Porto, Portugal, e ver quais insights podem ser extraídos a partir de dados brutos.**"
      ]
    },
    {
      "cell_type": "markdown",
      "metadata": {
        "id": "0zxQHhIUDF_2"
      },
      "source": [
        "## Obtenção dos Dados\n"
      ]
    },
    {
      "cell_type": "code",
      "metadata": {
        "id": "Vhp2wMPgJ6zX"
      },
      "source": [
        "# importar os pacotes necessarios\n",
        "import pandas as pd\n",
        "import numpy as np\n",
        "import matplotlib.pyplot as plt\n",
        "import seaborn as sns\n",
        "import scipy as sp\n",
        "from scipy import stats\n",
        "from mpl_toolkits.mplot3d import Axes3D\n",
        "\n",
        "\n",
        "%matplotlib inline"
      ],
      "execution_count": 2,
      "outputs": []
    },
    {
      "cell_type": "code",
      "metadata": {
        "id": "tUmoAT8DLQ5T"
      },
      "source": [
        "# importar o arquivo listings.csv para um DataFrame\n",
        "df = pd.read_csv(\"http://data.insideairbnb.com/portugal/norte/porto/2021-12-08/visualisations/listings.csv\")"
      ],
      "execution_count": 3,
      "outputs": []
    },
    {
      "cell_type": "markdown",
      "metadata": {
        "id": "qb5By2nIMS6m"
      },
      "source": [
        "\n",
        "\n",
        "## Análise dos Dados\n"
      ]
    },
    {
      "cell_type": "markdown",
      "metadata": {
        "id": "RYgvuebKNg8-"
      },
      "source": [
        "**Dicionário das variáveis**\n",
        "\n",
        "* id - Número identificador da listagem\n",
        "* name - Nome da listagem \n",
        "* host_id - Número identificador do anfitrião\n",
        "* neighbourhood_group - Agrupamento de vizinhança atribuído à listagem\n",
        "* neighbourhood - Vizinhança onde está localizada a listagem\n",
        "* latitude - Latitude da listagem\n",
        "* room_type - Tipo de acomodação, entre casa inteira e quarto da listagem\n",
        "* price - Preço em dólar da diária da listagem\n",
        "* minimum_nights - Requisito mínimo de noites para aluguel da listagem\n",
        "* number_of_reviews - Quórum de avaliações da listagem\n",
        "* last_review - Avaliação mais recente da listagem\n",
        "* reviews_per_month - Média de avaliações mensais da listagem\n",
        "* calculated_host_listings_count - Número total de listagens do anfitrião\n",
        "* availability_365 - Disponibilidade do aluguel da listagem\n",
        "* number_of_reviews_ltm - Número de avaliações nos últimos doze meses\n",
        "* license - Número da licença/registro\n",
        "\n",
        "Antes de iniciar qualquer análise, vamos verificar a cara do nosso *dataset*, analisando as 5 primeiras entradas."
      ]
    },
    {
      "cell_type": "code",
      "metadata": {
        "id": "2iS_dae7YQtO",
        "colab": {
          "base_uri": "https://localhost:8080/",
          "height": 207
        },
        "outputId": "328d0bd7-ee69-49cd-c445-5e791dcd6984"
      },
      "source": [
        "# mostrar as 5 primeiras entradas\n",
        "df.head()"
      ],
      "execution_count": 4,
      "outputs": [
        {
          "output_type": "execute_result",
          "data": {
            "text/plain": [
              "      id                                               name  host_id  \\\n",
              "0  41339                       Porto city flat near the sea   180050   \n",
              "1  55111  Fontielas Houses |Floor1 in House with shared ...   259711   \n",
              "2  73828  Fontielas Houses |Floor0 in House with shared ...   259711   \n",
              "3  86388                    A Formosa - a nest made for two   185209   \n",
              "4  87873                           Oporto Apartment Triplex   480980   \n",
              "\n",
              "       host_name neighbourhood_group  \\\n",
              "0          Paula               PORTO   \n",
              "1  Isabel E João             PAREDES   \n",
              "2  Isabel E João             PAREDES   \n",
              "3           João               PORTO   \n",
              "4          Paula               PORTO   \n",
              "\n",
              "                                       neighbourhood  latitude  longitude  \\\n",
              "0                       Lordelo do Ouro e Massarelos  41.15010   -8.66035   \n",
              "1                                               Cete  41.17481   -8.35362   \n",
              "2                                               Cete  41.17449   -8.35426   \n",
              "3  Cedofeita, Ildefonso, Sé, Miragaia, Nicolau, V...  41.14918   -8.60922   \n",
              "4                                             Bonfim  41.15786   -8.60427   \n",
              "\n",
              "         room_type  price  minimum_nights  number_of_reviews last_review  \\\n",
              "0  Entire home/apt     75               5                 17  2018-09-28   \n",
              "1  Entire home/apt     66               3                 14  2019-09-07   \n",
              "2  Entire home/apt     66               3                  8  2019-07-22   \n",
              "3     Private room     20               2                148  2021-11-23   \n",
              "4  Entire home/apt     69               3                192  2021-11-27   \n",
              "\n",
              "   reviews_per_month  calculated_host_listings_count  availability_365  \\\n",
              "0               0.16                               1               113   \n",
              "1               0.18                               3                 0   \n",
              "2               0.10                               3                 0   \n",
              "3               1.14                               7               310   \n",
              "4               1.65                               3               347   \n",
              "\n",
              "   number_of_reviews_ltm   license  \n",
              "0                      0  29049/AL  \n",
              "1                      0   7563/AL  \n",
              "2                      0   7563/AL  \n",
              "3                     12   6995/AL  \n",
              "4                      9    634/AL  "
            ],
            "text/html": [
              "\n",
              "  <div id=\"df-229feaf1-3bf4-4a0d-a578-ea2fce9ea38c\">\n",
              "    <div class=\"colab-df-container\">\n",
              "      <div>\n",
              "<style scoped>\n",
              "    .dataframe tbody tr th:only-of-type {\n",
              "        vertical-align: middle;\n",
              "    }\n",
              "\n",
              "    .dataframe tbody tr th {\n",
              "        vertical-align: top;\n",
              "    }\n",
              "\n",
              "    .dataframe thead th {\n",
              "        text-align: right;\n",
              "    }\n",
              "</style>\n",
              "<table border=\"1\" class=\"dataframe\">\n",
              "  <thead>\n",
              "    <tr style=\"text-align: right;\">\n",
              "      <th></th>\n",
              "      <th>id</th>\n",
              "      <th>name</th>\n",
              "      <th>host_id</th>\n",
              "      <th>host_name</th>\n",
              "      <th>neighbourhood_group</th>\n",
              "      <th>neighbourhood</th>\n",
              "      <th>latitude</th>\n",
              "      <th>longitude</th>\n",
              "      <th>room_type</th>\n",
              "      <th>price</th>\n",
              "      <th>minimum_nights</th>\n",
              "      <th>number_of_reviews</th>\n",
              "      <th>last_review</th>\n",
              "      <th>reviews_per_month</th>\n",
              "      <th>calculated_host_listings_count</th>\n",
              "      <th>availability_365</th>\n",
              "      <th>number_of_reviews_ltm</th>\n",
              "      <th>license</th>\n",
              "    </tr>\n",
              "  </thead>\n",
              "  <tbody>\n",
              "    <tr>\n",
              "      <th>0</th>\n",
              "      <td>41339</td>\n",
              "      <td>Porto city flat near the sea</td>\n",
              "      <td>180050</td>\n",
              "      <td>Paula</td>\n",
              "      <td>PORTO</td>\n",
              "      <td>Lordelo do Ouro e Massarelos</td>\n",
              "      <td>41.15010</td>\n",
              "      <td>-8.66035</td>\n",
              "      <td>Entire home/apt</td>\n",
              "      <td>75</td>\n",
              "      <td>5</td>\n",
              "      <td>17</td>\n",
              "      <td>2018-09-28</td>\n",
              "      <td>0.16</td>\n",
              "      <td>1</td>\n",
              "      <td>113</td>\n",
              "      <td>0</td>\n",
              "      <td>29049/AL</td>\n",
              "    </tr>\n",
              "    <tr>\n",
              "      <th>1</th>\n",
              "      <td>55111</td>\n",
              "      <td>Fontielas Houses |Floor1 in House with shared ...</td>\n",
              "      <td>259711</td>\n",
              "      <td>Isabel E João</td>\n",
              "      <td>PAREDES</td>\n",
              "      <td>Cete</td>\n",
              "      <td>41.17481</td>\n",
              "      <td>-8.35362</td>\n",
              "      <td>Entire home/apt</td>\n",
              "      <td>66</td>\n",
              "      <td>3</td>\n",
              "      <td>14</td>\n",
              "      <td>2019-09-07</td>\n",
              "      <td>0.18</td>\n",
              "      <td>3</td>\n",
              "      <td>0</td>\n",
              "      <td>0</td>\n",
              "      <td>7563/AL</td>\n",
              "    </tr>\n",
              "    <tr>\n",
              "      <th>2</th>\n",
              "      <td>73828</td>\n",
              "      <td>Fontielas Houses |Floor0 in House with shared ...</td>\n",
              "      <td>259711</td>\n",
              "      <td>Isabel E João</td>\n",
              "      <td>PAREDES</td>\n",
              "      <td>Cete</td>\n",
              "      <td>41.17449</td>\n",
              "      <td>-8.35426</td>\n",
              "      <td>Entire home/apt</td>\n",
              "      <td>66</td>\n",
              "      <td>3</td>\n",
              "      <td>8</td>\n",
              "      <td>2019-07-22</td>\n",
              "      <td>0.10</td>\n",
              "      <td>3</td>\n",
              "      <td>0</td>\n",
              "      <td>0</td>\n",
              "      <td>7563/AL</td>\n",
              "    </tr>\n",
              "    <tr>\n",
              "      <th>3</th>\n",
              "      <td>86388</td>\n",
              "      <td>A Formosa - a nest made for two</td>\n",
              "      <td>185209</td>\n",
              "      <td>João</td>\n",
              "      <td>PORTO</td>\n",
              "      <td>Cedofeita, Ildefonso, Sé, Miragaia, Nicolau, V...</td>\n",
              "      <td>41.14918</td>\n",
              "      <td>-8.60922</td>\n",
              "      <td>Private room</td>\n",
              "      <td>20</td>\n",
              "      <td>2</td>\n",
              "      <td>148</td>\n",
              "      <td>2021-11-23</td>\n",
              "      <td>1.14</td>\n",
              "      <td>7</td>\n",
              "      <td>310</td>\n",
              "      <td>12</td>\n",
              "      <td>6995/AL</td>\n",
              "    </tr>\n",
              "    <tr>\n",
              "      <th>4</th>\n",
              "      <td>87873</td>\n",
              "      <td>Oporto Apartment Triplex</td>\n",
              "      <td>480980</td>\n",
              "      <td>Paula</td>\n",
              "      <td>PORTO</td>\n",
              "      <td>Bonfim</td>\n",
              "      <td>41.15786</td>\n",
              "      <td>-8.60427</td>\n",
              "      <td>Entire home/apt</td>\n",
              "      <td>69</td>\n",
              "      <td>3</td>\n",
              "      <td>192</td>\n",
              "      <td>2021-11-27</td>\n",
              "      <td>1.65</td>\n",
              "      <td>3</td>\n",
              "      <td>347</td>\n",
              "      <td>9</td>\n",
              "      <td>634/AL</td>\n",
              "    </tr>\n",
              "  </tbody>\n",
              "</table>\n",
              "</div>\n",
              "      <button class=\"colab-df-convert\" onclick=\"convertToInteractive('df-229feaf1-3bf4-4a0d-a578-ea2fce9ea38c')\"\n",
              "              title=\"Convert this dataframe to an interactive table.\"\n",
              "              style=\"display:none;\">\n",
              "        \n",
              "  <svg xmlns=\"http://www.w3.org/2000/svg\" height=\"24px\"viewBox=\"0 0 24 24\"\n",
              "       width=\"24px\">\n",
              "    <path d=\"M0 0h24v24H0V0z\" fill=\"none\"/>\n",
              "    <path d=\"M18.56 5.44l.94 2.06.94-2.06 2.06-.94-2.06-.94-.94-2.06-.94 2.06-2.06.94zm-11 1L8.5 8.5l.94-2.06 2.06-.94-2.06-.94L8.5 2.5l-.94 2.06-2.06.94zm10 10l.94 2.06.94-2.06 2.06-.94-2.06-.94-.94-2.06-.94 2.06-2.06.94z\"/><path d=\"M17.41 7.96l-1.37-1.37c-.4-.4-.92-.59-1.43-.59-.52 0-1.04.2-1.43.59L10.3 9.45l-7.72 7.72c-.78.78-.78 2.05 0 2.83L4 21.41c.39.39.9.59 1.41.59.51 0 1.02-.2 1.41-.59l7.78-7.78 2.81-2.81c.8-.78.8-2.07 0-2.86zM5.41 20L4 18.59l7.72-7.72 1.47 1.35L5.41 20z\"/>\n",
              "  </svg>\n",
              "      </button>\n",
              "      \n",
              "  <style>\n",
              "    .colab-df-container {\n",
              "      display:flex;\n",
              "      flex-wrap:wrap;\n",
              "      gap: 12px;\n",
              "    }\n",
              "\n",
              "    .colab-df-convert {\n",
              "      background-color: #E8F0FE;\n",
              "      border: none;\n",
              "      border-radius: 50%;\n",
              "      cursor: pointer;\n",
              "      display: none;\n",
              "      fill: #1967D2;\n",
              "      height: 32px;\n",
              "      padding: 0 0 0 0;\n",
              "      width: 32px;\n",
              "    }\n",
              "\n",
              "    .colab-df-convert:hover {\n",
              "      background-color: #E2EBFA;\n",
              "      box-shadow: 0px 1px 2px rgba(60, 64, 67, 0.3), 0px 1px 3px 1px rgba(60, 64, 67, 0.15);\n",
              "      fill: #174EA6;\n",
              "    }\n",
              "\n",
              "    [theme=dark] .colab-df-convert {\n",
              "      background-color: #3B4455;\n",
              "      fill: #D2E3FC;\n",
              "    }\n",
              "\n",
              "    [theme=dark] .colab-df-convert:hover {\n",
              "      background-color: #434B5C;\n",
              "      box-shadow: 0px 1px 3px 1px rgba(0, 0, 0, 0.15);\n",
              "      filter: drop-shadow(0px 1px 2px rgba(0, 0, 0, 0.3));\n",
              "      fill: #FFFFFF;\n",
              "    }\n",
              "  </style>\n",
              "\n",
              "      <script>\n",
              "        const buttonEl =\n",
              "          document.querySelector('#df-229feaf1-3bf4-4a0d-a578-ea2fce9ea38c button.colab-df-convert');\n",
              "        buttonEl.style.display =\n",
              "          google.colab.kernel.accessAllowed ? 'block' : 'none';\n",
              "\n",
              "        async function convertToInteractive(key) {\n",
              "          const element = document.querySelector('#df-229feaf1-3bf4-4a0d-a578-ea2fce9ea38c');\n",
              "          const dataTable =\n",
              "            await google.colab.kernel.invokeFunction('convertToInteractive',\n",
              "                                                     [key], {});\n",
              "          if (!dataTable) return;\n",
              "\n",
              "          const docLinkHtml = 'Like what you see? Visit the ' +\n",
              "            '<a target=\"_blank\" href=https://colab.research.google.com/notebooks/data_table.ipynb>data table notebook</a>'\n",
              "            + ' to learn more about interactive tables.';\n",
              "          element.innerHTML = '';\n",
              "          dataTable['output_type'] = 'display_data';\n",
              "          await google.colab.output.renderOutput(dataTable, element);\n",
              "          const docLink = document.createElement('div');\n",
              "          docLink.innerHTML = docLinkHtml;\n",
              "          element.appendChild(docLink);\n",
              "        }\n",
              "      </script>\n",
              "    </div>\n",
              "  </div>\n",
              "  "
            ]
          },
          "metadata": {},
          "execution_count": 4
        }
      ]
    },
    {
      "cell_type": "markdown",
      "metadata": {
        "id": "6-B_qtEaYEd-"
      },
      "source": [
        "### **Q1. Quantos atributos (variáveis) e quantas entradas o nosso conjunto de dados possui? Quais os tipos das variáveis?**"
      ]
    },
    {
      "cell_type": "code",
      "metadata": {
        "id": "TFRK0tniLV-G",
        "colab": {
          "base_uri": "https://localhost:8080/",
          "height": 381
        },
        "outputId": "6a4733b9-7e6f-43eb-e06c-5cd9e315997b"
      },
      "source": [
        "# identificar o volume de dados do DataFrame\n",
        "print(\"Entradas:{}\".format(df.shape[0]))\n",
        "print(\"Variáveis:{}\".format(df.shape[1]))\n",
        "# verificar as 5 primeiras entradas do dataset\n",
        "display(df.dtypes)"
      ],
      "execution_count": 5,
      "outputs": [
        {
          "output_type": "stream",
          "name": "stdout",
          "text": [
            "Entradas:10748\n",
            "Variáveis:18\n"
          ]
        },
        {
          "output_type": "display_data",
          "data": {
            "text/plain": [
              "id                                  int64\n",
              "name                               object\n",
              "host_id                             int64\n",
              "host_name                          object\n",
              "neighbourhood_group                object\n",
              "neighbourhood                      object\n",
              "latitude                          float64\n",
              "longitude                         float64\n",
              "room_type                          object\n",
              "price                               int64\n",
              "minimum_nights                      int64\n",
              "number_of_reviews                   int64\n",
              "last_review                        object\n",
              "reviews_per_month                 float64\n",
              "calculated_host_listings_count      int64\n",
              "availability_365                    int64\n",
              "number_of_reviews_ltm               int64\n",
              "license                            object\n",
              "dtype: object"
            ]
          },
          "metadata": {}
        }
      ]
    },
    {
      "cell_type": "markdown",
      "metadata": {
        "id": "yz1urSUGW9iE"
      },
      "source": [
        "### **Q2. Qual a porcentagem de valores ausentes no *dataset*?**"
      ]
    },
    {
      "cell_type": "code",
      "metadata": {
        "id": "plk2FjbCXOqP",
        "colab": {
          "base_uri": "https://localhost:8080/"
        },
        "outputId": "e56da0b4-afbd-4941-dca8-e7598e28ade0"
      },
      "source": [
        "# ordenar em ordem decrescente as variáveis por seus valores ausentes\n",
        "(df.isnull().sum()/df.shape[0]).sort_values(ascending=False)"
      ],
      "execution_count": 6,
      "outputs": [
        {
          "output_type": "execute_result",
          "data": {
            "text/plain": [
              "reviews_per_month                 0.149795\n",
              "last_review                       0.149795\n",
              "license                           0.082248\n",
              "host_name                         0.000372\n",
              "minimum_nights                    0.000000\n",
              "number_of_reviews_ltm             0.000000\n",
              "availability_365                  0.000000\n",
              "calculated_host_listings_count    0.000000\n",
              "number_of_reviews                 0.000000\n",
              "id                                0.000000\n",
              "name                              0.000000\n",
              "room_type                         0.000000\n",
              "longitude                         0.000000\n",
              "latitude                          0.000000\n",
              "neighbourhood                     0.000000\n",
              "neighbourhood_group               0.000000\n",
              "host_id                           0.000000\n",
              "price                             0.000000\n",
              "dtype: float64"
            ]
          },
          "metadata": {},
          "execution_count": 6
        }
      ]
    },
    {
      "cell_type": "markdown",
      "metadata": {
        "id": "iHXvvHIxaoNc"
      },
      "source": [
        "### **Q3. Qual o tipo de distribuição das variáveis?** "
      ]
    },
    {
      "cell_type": "code",
      "source": [
        "df_limpo = df.dropna(subset=['last_review', 'license', 'host_name'])\n",
        "\n",
        "print(\"Antes:{}\".format(df.shape))\n",
        "print(\"Depois:{}\".format(df_limpo.shape))"
      ],
      "metadata": {
        "colab": {
          "base_uri": "https://localhost:8080/"
        },
        "id": "xCTu4VKv8cXC",
        "outputId": "050f1713-fa86-43b9-8c0b-ef7b89e8b371"
      },
      "execution_count": 7,
      "outputs": [
        {
          "output_type": "stream",
          "name": "stdout",
          "text": [
            "Antes:(10748, 18)\n",
            "Depois:(8401, 18)\n"
          ]
        }
      ]
    },
    {
      "cell_type": "code",
      "metadata": {
        "id": "q2wWSfeRbmBo",
        "colab": {
          "base_uri": "https://localhost:8080/",
          "height": 879
        },
        "outputId": "ddb5fb88-d333-4b2e-e6c8-fd8779eaa4a1"
      },
      "source": [
        "# plotar o histograma das variáveis numéricas\n",
        "df_limpo.hist(bins=10, figsize=(10,15));"
      ],
      "execution_count": 8,
      "outputs": [
        {
          "output_type": "display_data",
          "data": {
            "text/plain": [
              "<Figure size 720x1080 with 12 Axes>"
            ],
            "image/png": "[encoded data removed]"
          },
          "metadata": {
            "needs_background": "light"
          }
        }
      ]
    },
    {
      "cell_type": "markdown",
      "source": [
        "### **Buscando e tratando outliers**\n",
        "De acordo com os histogramas acima, é possível identificar a possibilidade de influência de outliers nas colunas 'price', 'minimum_nights', 'number_of_reviews_ltm'.\n",
        "\n",
        "Portanto, vamos investigar mais a fundo e tratar os outliers, se necessário.\n",
        "\n",
        "Para a coluna `price`, estabeleci o parâmetro máximo como sendo ***300***, por acreditar que diárias com preço acima disso estariam muito acima do padrão buscado pelos usuários do Airbnb de acordo com os dados descritos abaixo através do describe..\n",
        "\n",
        "Para a coluna `minimum_nights`, estabeleci o parâmetro máximo como sendo ***30***, por acreditar que poucas pessoas estariam dispostas a alugar por esse tempo todo, de acordo com os dados descritos abaixo através do describe.\n",
        "\n",
        "Para a coluna `number_of_reviews`, estabeleci o parâmetro máximo como sendo ***400***, por acreditar que poucas listagens haveriam tantas avaliações, de acordo com os dados descritos abaixo através do describe."
      ],
      "metadata": {
        "id": "TTzgqk926EXe"
      }
    },
    {
      "cell_type": "code",
      "source": [
        "df_limpo[['price', 'minimum_nights', 'number_of_reviews']].describe()"
      ],
      "metadata": {
        "colab": {
          "base_uri": "https://localhost:8080/",
          "height": 300
        },
        "id": "MrKyypGH6XWO",
        "outputId": "19f807d2-7b26-4112-e7cb-85f5f98bb12a"
      },
      "execution_count": 9,
      "outputs": [
        {
          "output_type": "execute_result",
          "data": {
            "text/plain": [
              "              price  minimum_nights  number_of_reviews\n",
              "count   8401.000000     8401.000000        8401.000000\n",
              "mean      83.695036        3.010237          52.536722\n",
              "std      310.129750       17.806423          76.279719\n",
              "min        9.000000        1.000000           1.000000\n",
              "25%       40.000000        1.000000           5.000000\n",
              "50%       57.000000        2.000000          22.000000\n",
              "75%       80.000000        2.000000          67.000000\n",
              "max    11799.000000     1123.000000         733.000000"
            ],
            "text/html": [
              "\n",
              "  <div id=\"df-fa6b9971-fbb2-42ac-a78e-ecc829a684d9\">\n",
              "    <div class=\"colab-df-container\">\n",
              "      <div>\n",
              "<style scoped>\n",
              "    .dataframe tbody tr th:only-of-type {\n",
              "        vertical-align: middle;\n",
              "    }\n",
              "\n",
              "    .dataframe tbody tr th {\n",
              "        vertical-align: top;\n",
              "    }\n",
              "\n",
              "    .dataframe thead th {\n",
              "        text-align: right;\n",
              "    }\n",
              "</style>\n",
              "<table border=\"1\" class=\"dataframe\">\n",
              "  <thead>\n",
              "    <tr style=\"text-align: right;\">\n",
              "      <th></th>\n",
              "      <th>price</th>\n",
              "      <th>minimum_nights</th>\n",
              "      <th>number_of_reviews</th>\n",
              "    </tr>\n",
              "  </thead>\n",
              "  <tbody>\n",
              "    <tr>\n",
              "      <th>count</th>\n",
              "      <td>8401.000000</td>\n",
              "      <td>8401.000000</td>\n",
              "      <td>8401.000000</td>\n",
              "    </tr>\n",
              "    <tr>\n",
              "      <th>mean</th>\n",
              "      <td>83.695036</td>\n",
              "      <td>3.010237</td>\n",
              "      <td>52.536722</td>\n",
              "    </tr>\n",
              "    <tr>\n",
              "      <th>std</th>\n",
              "      <td>310.129750</td>\n",
              "      <td>17.806423</td>\n",
              "      <td>76.279719</td>\n",
              "    </tr>\n",
              "    <tr>\n",
              "      <th>min</th>\n",
              "      <td>9.000000</td>\n",
              "      <td>1.000000</td>\n",
              "      <td>1.000000</td>\n",
              "    </tr>\n",
              "    <tr>\n",
              "      <th>25%</th>\n",
              "      <td>40.000000</td>\n",
              "      <td>1.000000</td>\n",
              "      <td>5.000000</td>\n",
              "    </tr>\n",
              "    <tr>\n",
              "      <th>50%</th>\n",
              "      <td>57.000000</td>\n",
              "      <td>2.000000</td>\n",
              "      <td>22.000000</td>\n",
              "    </tr>\n",
              "    <tr>\n",
              "      <th>75%</th>\n",
              "      <td>80.000000</td>\n",
              "      <td>2.000000</td>\n",
              "      <td>67.000000</td>\n",
              "    </tr>\n",
              "    <tr>\n",
              "      <th>max</th>\n",
              "      <td>11799.000000</td>\n",
              "      <td>1123.000000</td>\n",
              "      <td>733.000000</td>\n",
              "    </tr>\n",
              "  </tbody>\n",
              "</table>\n",
              "</div>\n",
              "      <button class=\"colab-df-convert\" onclick=\"convertToInteractive('df-fa6b9971-fbb2-42ac-a78e-ecc829a684d9')\"\n",
              "              title=\"Convert this dataframe to an interactive table.\"\n",
              "              style=\"display:none;\">\n",
              "        \n",
              "  <svg xmlns=\"http://www.w3.org/2000/svg\" height=\"24px\"viewBox=\"0 0 24 24\"\n",
              "       width=\"24px\">\n",
              "    <path d=\"M0 0h24v24H0V0z\" fill=\"none\"/>\n",
              "    <path d=\"M18.56 5.44l.94 2.06.94-2.06 2.06-.94-2.06-.94-.94-2.06-.94 2.06-2.06.94zm-11 1L8.5 8.5l.94-2.06 2.06-.94-2.06-.94L8.5 2.5l-.94 2.06-2.06.94zm10 10l.94 2.06.94-2.06 2.06-.94-2.06-.94-.94-2.06-.94 2.06-2.06.94z\"/><path d=\"M17.41 7.96l-1.37-1.37c-.4-.4-.92-.59-1.43-.59-.52 0-1.04.2-1.43.59L10.3 9.45l-7.72 7.72c-.78.78-.78 2.05 0 2.83L4 21.41c.39.39.9.59 1.41.59.51 0 1.02-.2 1.41-.59l7.78-7.78 2.81-2.81c.8-.78.8-2.07 0-2.86zM5.41 20L4 18.59l7.72-7.72 1.47 1.35L5.41 20z\"/>\n",
              "  </svg>\n",
              "      </button>\n",
              "      \n",
              "  <style>\n",
              "    .colab-df-container {\n",
              "      display:flex;\n",
              "      flex-wrap:wrap;\n",
              "      gap: 12px;\n",
              "    }\n",
              "\n",
              "    .colab-df-convert {\n",
              "      background-color: #E8F0FE;\n",
              "      border: none;\n",
              "      border-radius: 50%;\n",
              "      cursor: pointer;\n",
              "      display: none;\n",
              "      fill: #1967D2;\n",
              "      height: 32px;\n",
              "      padding: 0 0 0 0;\n",
              "      width: 32px;\n",
              "    }\n",
              "\n",
              "    .colab-df-convert:hover {\n",
              "      background-color: #E2EBFA;\n",
              "      box-shadow: 0px 1px 2px rgba(60, 64, 67, 0.3), 0px 1px 3px 1px rgba(60, 64, 67, 0.15);\n",
              "      fill: #174EA6;\n",
              "    }\n",
              "\n",
              "    [theme=dark] .colab-df-convert {\n",
              "      background-color: #3B4455;\n",
              "      fill: #D2E3FC;\n",
              "    }\n",
              "\n",
              "    [theme=dark] .colab-df-convert:hover {\n",
              "      background-color: #434B5C;\n",
              "      box-shadow: 0px 1px 3px 1px rgba(0, 0, 0, 0.15);\n",
              "      filter: drop-shadow(0px 1px 2px rgba(0, 0, 0, 0.3));\n",
              "      fill: #FFFFFF;\n",
              "    }\n",
              "  </style>\n",
              "\n",
              "      <script>\n",
              "        const buttonEl =\n",
              "          document.querySelector('#df-fa6b9971-fbb2-42ac-a78e-ecc829a684d9 button.colab-df-convert');\n",
              "        buttonEl.style.display =\n",
              "          google.colab.kernel.accessAllowed ? 'block' : 'none';\n",
              "\n",
              "        async function convertToInteractive(key) {\n",
              "          const element = document.querySelector('#df-fa6b9971-fbb2-42ac-a78e-ecc829a684d9');\n",
              "          const dataTable =\n",
              "            await google.colab.kernel.invokeFunction('convertToInteractive',\n",
              "                                                     [key], {});\n",
              "          if (!dataTable) return;\n",
              "\n",
              "          const docLinkHtml = 'Like what you see? Visit the ' +\n",
              "            '<a target=\"_blank\" href=https://colab.research.google.com/notebooks/data_table.ipynb>data table notebook</a>'\n",
              "            + ' to learn more about interactive tables.';\n",
              "          element.innerHTML = '';\n",
              "          dataTable['output_type'] = 'display_data';\n",
              "          await google.colab.output.renderOutput(dataTable, element);\n",
              "          const docLink = document.createElement('div');\n",
              "          docLink.innerHTML = docLinkHtml;\n",
              "          element.appendChild(docLink);\n",
              "        }\n",
              "      </script>\n",
              "    </div>\n",
              "  </div>\n",
              "  "
            ]
          },
          "metadata": {},
          "execution_count": 9
        }
      ]
    },
    {
      "cell_type": "code",
      "source": [
        "#entendendo melhor a influência dos outliers na coluna price\n",
        "df_limpo.price.plot(kind='box', vert=False, figsize=(15,3))\n",
        "plt.show()\n",
        "\n",
        "print(\"Price - Acima de 300\")\n",
        "print(\"{}entradas\".format(len(df_limpo[df_limpo.price > 300])))\n",
        "print(\"{:.4f}%\".format((len(df_limpo[df_limpo.price > 300]) / df_limpo.shape[0]*100)))"
      ],
      "metadata": {
        "colab": {
          "base_uri": "https://localhost:8080/",
          "height": 262
        },
        "id": "A3GCbAPO626k",
        "outputId": "d08e9957-1315-421e-876d-70f9cce5fe7e"
      },
      "execution_count": 10,
      "outputs": [
        {
          "output_type": "display_data",
          "data": {
            "text/plain": [
              "<Figure size 1080x216 with 1 Axes>"
            ],
            "image/png": "[encoded data removed]"
          },
          "metadata": {
            "needs_background": "light"
          }
        },
        {
          "output_type": "stream",
          "name": "stdout",
          "text": [
            "Price - Acima de 300\n",
            "129entradas\n",
            "1.5355%\n"
          ]
        }
      ]
    },
    {
      "cell_type": "code",
      "source": [
        "#entendendo melhor a influência dos outliers na coluna minimum_nights\n",
        "df_limpo.minimum_nights.plot(kind='box', vert=False, figsize=(15,3))\n",
        "plt.show()\n",
        "\n",
        "print(\"Minimum_nights - Acima de 30\")\n",
        "print(\"{}entradas\".format(len(df_limpo[df_limpo.minimum_nights > 30])))\n",
        "print(\"{:.4f}%\".format((len(df_limpo[df_limpo.minimum_nights > 30]) / df_limpo.shape[0]*100)))"
      ],
      "metadata": {
        "colab": {
          "base_uri": "https://localhost:8080/",
          "height": 262
        },
        "id": "OWxwwHQH_Mhz",
        "outputId": "6bbd3646-f2f6-4504-f856-2d22b433539a"
      },
      "execution_count": 11,
      "outputs": [
        {
          "output_type": "display_data",
          "data": {
            "text/plain": [
              "<Figure size 1080x216 with 1 Axes>"
            ],
            "image/png": "[encoded data removed]"
          },
          "metadata": {
            "needs_background": "light"
          }
        },
        {
          "output_type": "stream",
          "name": "stdout",
          "text": [
            "Minimum_nights - Acima de 30\n",
            "31entradas\n",
            "0.3690%\n"
          ]
        }
      ]
    },
    {
      "cell_type": "code",
      "source": [
        "#entendendo melhor a influência dos outliers na coluna number_of_reviews\n",
        "df_limpo.number_of_reviews.plot(kind='box', vert=False, figsize=(15,3))\n",
        "plt.show()\n",
        "\n",
        "print(\"number_of_reviews - Acima de 400\")\n",
        "print(\"{}entradas\".format(len(df_limpo[df_limpo.number_of_reviews > 400])))\n",
        "print(\"{:.4f}%\".format((len(df_limpo[df_limpo.number_of_reviews > 400]) / df_limpo.shape[0]*100)))"
      ],
      "metadata": {
        "colab": {
          "base_uri": "https://localhost:8080/",
          "height": 262
        },
        "id": "uGHrB3jj_MYb",
        "outputId": "f5e6f56d-97d6-4e79-8c43-b890d6a7517d"
      },
      "execution_count": 12,
      "outputs": [
        {
          "output_type": "display_data",
          "data": {
            "text/plain": [
              "<Figure size 1080x216 with 1 Axes>"
            ],
            "image/png": "[encoded data removed]"
          },
          "metadata": {
            "needs_background": "light"
          }
        },
        {
          "output_type": "stream",
          "name": "stdout",
          "text": [
            "number_of_reviews - Acima de 400\n",
            "58entradas\n",
            "0.6904%\n"
          ]
        }
      ]
    },
    {
      "cell_type": "code",
      "source": [
        "#tratando os outliers\n",
        "\n",
        "df_clean = df_limpo.copy()\n",
        "df_clean.drop(df_clean[df_clean.price > 300].index, axis=0, inplace=True)\n",
        "df_clean.drop(df_clean[df_clean.minimum_nights > 30].index, axis=0, inplace=True)\n",
        "df_clean.drop(df_clean[df_clean.number_of_reviews > 400].index, axis=0, inplace=True)\n",
        "\n",
        "df_clean.hist(bins=15, figsize=(15,15))\n"
      ],
      "metadata": {
        "colab": {
          "base_uri": "https://localhost:8080/",
          "height": 1000
        },
        "id": "10uo2UThCGYi",
        "outputId": "50ad95b3-3d69-48c5-8ec0-c93c55d24a21"
      },
      "execution_count": 13,
      "outputs": [
        {
          "output_type": "execute_result",
          "data": {
            "text/plain": [
              "array([[<matplotlib.axes._subplots.AxesSubplot object at 0x7f6d6cc3fa90>,\n",
              "        <matplotlib.axes._subplots.AxesSubplot object at 0x7f6d6cc6dd90>,\n",
              "        <matplotlib.axes._subplots.AxesSubplot object at 0x7f6d6cc2f290>],\n",
              "       [<matplotlib.axes._subplots.AxesSubplot object at 0x7f6d6cbe7790>,\n",
              "        <matplotlib.axes._subplots.AxesSubplot object at 0x7f6d6cb9fc90>,\n",
              "        <matplotlib.axes._subplots.AxesSubplot object at 0x7f6d6cb611d0>],\n",
              "       [<matplotlib.axes._subplots.AxesSubplot object at 0x7f6d6cceca10>,\n",
              "        <matplotlib.axes._subplots.AxesSubplot object at 0x7f6d6cd67dd0>,\n",
              "        <matplotlib.axes._subplots.AxesSubplot object at 0x7f6d6cd67b10>],\n",
              "       [<matplotlib.axes._subplots.AxesSubplot object at 0x7f6d6cd4b450>,\n",
              "        <matplotlib.axes._subplots.AxesSubplot object at 0x7f6d6d350410>,\n",
              "        <matplotlib.axes._subplots.AxesSubplot object at 0x7f6d6cdc5110>]],\n",
              "      dtype=object)"
            ]
          },
          "metadata": {},
          "execution_count": 13
        },
        {
          "output_type": "display_data",
          "data": {
            "text/plain": [
              "<Figure size 1080x1080 with 12 Axes>"
            ],
            "image/png": "[encoded data removed]"
          },
          "metadata": {
            "needs_background": "light"
          }
        }
      ]
    },
    {
      "cell_type": "markdown",
      "metadata": {
        "id": "7x4aw1j5wNmn"
      },
      "source": [
        "### **Q4. Qual a média dos preços de aluguel?**"
      ]
    },
    {
      "cell_type": "code",
      "metadata": {
        "id": "ff-8gUahLk-C",
        "colab": {
          "base_uri": "https://localhost:8080/"
        },
        "outputId": "10c716f1-0fc2-4ace-b0cb-98be3cd7f956"
      },
      "source": [
        "# ver a média da coluna `price`\n",
        "df_clean[\"price\"].mean()"
      ],
      "execution_count": 14,
      "outputs": [
        {
          "output_type": "execute_result",
          "data": {
            "text/plain": [
              "66.55345143555284"
            ]
          },
          "metadata": {},
          "execution_count": 14
        }
      ]
    },
    {
      "cell_type": "markdown",
      "metadata": {
        "id": "IXn2oIo5qx-w"
      },
      "source": [
        "### **Q4. Qual a correlação existente entre as variáveis**"
      ]
    },
    {
      "cell_type": "code",
      "metadata": {
        "id": "x2ayzBajqxyd",
        "colab": {
          "base_uri": "https://localhost:8080/",
          "height": 207
        },
        "outputId": "c8bfbb7e-602e-43fb-ffff-a2ebc8c139be"
      },
      "source": [
        "# criar uma matriz de correlação\n",
        "corr = df_clean[['price', 'room_type', 'minimum_nights', 'number_of_reviews', 'calculated_host_listings_count', 'availability_365']].corr()\n",
        "# mostrar a matriz de correlação\n",
        "display(corr)"
      ],
      "execution_count": 15,
      "outputs": [
        {
          "output_type": "display_data",
          "data": {
            "text/plain": [
              "                                   price  minimum_nights  number_of_reviews  \\\n",
              "price                           1.000000       -0.022947          -0.116390   \n",
              "minimum_nights                 -0.022947        1.000000          -0.023949   \n",
              "number_of_reviews              -0.116390       -0.023949           1.000000   \n",
              "calculated_host_listings_count -0.115898       -0.065778           0.057299   \n",
              "availability_365                0.075292       -0.099313           0.005483   \n",
              "\n",
              "                                calculated_host_listings_count  \\\n",
              "price                                                -0.115898   \n",
              "minimum_nights                                       -0.065778   \n",
              "number_of_reviews                                     0.057299   \n",
              "calculated_host_listings_count                        1.000000   \n",
              "availability_365                                      0.115722   \n",
              "\n",
              "                                availability_365  \n",
              "price                                   0.075292  \n",
              "minimum_nights                         -0.099313  \n",
              "number_of_reviews                       0.005483  \n",
              "calculated_host_listings_count          0.115722  \n",
              "availability_365                        1.000000  "
            ],
            "text/html": [
              "\n",
              "  <div id=\"df-1948805d-d471-4b57-93b5-7addb88abecd\">\n",
              "    <div class=\"colab-df-container\">\n",
              "      <div>\n",
              "<style scoped>\n",
              "    .dataframe tbody tr th:only-of-type {\n",
              "        vertical-align: middle;\n",
              "    }\n",
              "\n",
              "    .dataframe tbody tr th {\n",
              "        vertical-align: top;\n",
              "    }\n",
              "\n",
              "    .dataframe thead th {\n",
              "        text-align: right;\n",
              "    }\n",
              "</style>\n",
              "<table border=\"1\" class=\"dataframe\">\n",
              "  <thead>\n",
              "    <tr style=\"text-align: right;\">\n",
              "      <th></th>\n",
              "      <th>price</th>\n",
              "      <th>minimum_nights</th>\n",
              "      <th>number_of_reviews</th>\n",
              "      <th>calculated_host_listings_count</th>\n",
              "      <th>availability_365</th>\n",
              "    </tr>\n",
              "  </thead>\n",
              "  <tbody>\n",
              "    <tr>\n",
              "      <th>price</th>\n",
              "      <td>1.000000</td>\n",
              "      <td>-0.022947</td>\n",
              "      <td>-0.116390</td>\n",
              "      <td>-0.115898</td>\n",
              "      <td>0.075292</td>\n",
              "    </tr>\n",
              "    <tr>\n",
              "      <th>minimum_nights</th>\n",
              "      <td>-0.022947</td>\n",
              "      <td>1.000000</td>\n",
              "      <td>-0.023949</td>\n",
              "      <td>-0.065778</td>\n",
              "      <td>-0.099313</td>\n",
              "    </tr>\n",
              "    <tr>\n",
              "      <th>number_of_reviews</th>\n",
              "      <td>-0.116390</td>\n",
              "      <td>-0.023949</td>\n",
              "      <td>1.000000</td>\n",
              "      <td>0.057299</td>\n",
              "      <td>0.005483</td>\n",
              "    </tr>\n",
              "    <tr>\n",
              "      <th>calculated_host_listings_count</th>\n",
              "      <td>-0.115898</td>\n",
              "      <td>-0.065778</td>\n",
              "      <td>0.057299</td>\n",
              "      <td>1.000000</td>\n",
              "      <td>0.115722</td>\n",
              "    </tr>\n",
              "    <tr>\n",
              "      <th>availability_365</th>\n",
              "      <td>0.075292</td>\n",
              "      <td>-0.099313</td>\n",
              "      <td>0.005483</td>\n",
              "      <td>0.115722</td>\n",
              "      <td>1.000000</td>\n",
              "    </tr>\n",
              "  </tbody>\n",
              "</table>\n",
              "</div>\n",
              "      <button class=\"colab-df-convert\" onclick=\"convertToInteractive('df-1948805d-d471-4b57-93b5-7addb88abecd')\"\n",
              "              title=\"Convert this dataframe to an interactive table.\"\n",
              "              style=\"display:none;\">\n",
              "        \n",
              "  <svg xmlns=\"http://www.w3.org/2000/svg\" height=\"24px\"viewBox=\"0 0 24 24\"\n",
              "       width=\"24px\">\n",
              "    <path d=\"M0 0h24v24H0V0z\" fill=\"none\"/>\n",
              "    <path d=\"M18.56 5.44l.94 2.06.94-2.06 2.06-.94-2.06-.94-.94-2.06-.94 2.06-2.06.94zm-11 1L8.5 8.5l.94-2.06 2.06-.94-2.06-.94L8.5 2.5l-.94 2.06-2.06.94zm10 10l.94 2.06.94-2.06 2.06-.94-2.06-.94-.94-2.06-.94 2.06-2.06.94z\"/><path d=\"M17.41 7.96l-1.37-1.37c-.4-.4-.92-.59-1.43-.59-.52 0-1.04.2-1.43.59L10.3 9.45l-7.72 7.72c-.78.78-.78 2.05 0 2.83L4 21.41c.39.39.9.59 1.41.59.51 0 1.02-.2 1.41-.59l7.78-7.78 2.81-2.81c.8-.78.8-2.07 0-2.86zM5.41 20L4 18.59l7.72-7.72 1.47 1.35L5.41 20z\"/>\n",
              "  </svg>\n",
              "      </button>\n",
              "      \n",
              "  <style>\n",
              "    .colab-df-container {\n",
              "      display:flex;\n",
              "      flex-wrap:wrap;\n",
              "      gap: 12px;\n",
              "    }\n",
              "\n",
              "    .colab-df-convert {\n",
              "      background-color: #E8F0FE;\n",
              "      border: none;\n",
              "      border-radius: 50%;\n",
              "      cursor: pointer;\n",
              "      display: none;\n",
              "      fill: #1967D2;\n",
              "      height: 32px;\n",
              "      padding: 0 0 0 0;\n",
              "      width: 32px;\n",
              "    }\n",
              "\n",
              "    .colab-df-convert:hover {\n",
              "      background-color: #E2EBFA;\n",
              "      box-shadow: 0px 1px 2px rgba(60, 64, 67, 0.3), 0px 1px 3px 1px rgba(60, 64, 67, 0.15);\n",
              "      fill: #174EA6;\n",
              "    }\n",
              "\n",
              "    [theme=dark] .colab-df-convert {\n",
              "      background-color: #3B4455;\n",
              "      fill: #D2E3FC;\n",
              "    }\n",
              "\n",
              "    [theme=dark] .colab-df-convert:hover {\n",
              "      background-color: #434B5C;\n",
              "      box-shadow: 0px 1px 3px 1px rgba(0, 0, 0, 0.15);\n",
              "      filter: drop-shadow(0px 1px 2px rgba(0, 0, 0, 0.3));\n",
              "      fill: #FFFFFF;\n",
              "    }\n",
              "  </style>\n",
              "\n",
              "      <script>\n",
              "        const buttonEl =\n",
              "          document.querySelector('#df-1948805d-d471-4b57-93b5-7addb88abecd button.colab-df-convert');\n",
              "        buttonEl.style.display =\n",
              "          google.colab.kernel.accessAllowed ? 'block' : 'none';\n",
              "\n",
              "        async function convertToInteractive(key) {\n",
              "          const element = document.querySelector('#df-1948805d-d471-4b57-93b5-7addb88abecd');\n",
              "          const dataTable =\n",
              "            await google.colab.kernel.invokeFunction('convertToInteractive',\n",
              "                                                     [key], {});\n",
              "          if (!dataTable) return;\n",
              "\n",
              "          const docLinkHtml = 'Like what you see? Visit the ' +\n",
              "            '<a target=\"_blank\" href=https://colab.research.google.com/notebooks/data_table.ipynb>data table notebook</a>'\n",
              "            + ' to learn more about interactive tables.';\n",
              "          element.innerHTML = '';\n",
              "          dataTable['output_type'] = 'display_data';\n",
              "          await google.colab.output.renderOutput(dataTable, element);\n",
              "          const docLink = document.createElement('div');\n",
              "          docLink.innerHTML = docLinkHtml;\n",
              "          element.appendChild(docLink);\n",
              "        }\n",
              "      </script>\n",
              "    </div>\n",
              "  </div>\n",
              "  "
            ]
          },
          "metadata": {}
        }
      ]
    },
    {
      "cell_type": "code",
      "metadata": {
        "id": "91UujDr6ueqE",
        "colab": {
          "base_uri": "https://localhost:8080/",
          "height": 867
        },
        "outputId": "101d273b-4f20-4dba-96cd-8ffe2f56aca3"
      },
      "source": [
        "# plotar um heatmap a partir das correlações\n",
        "plt.figure(figsize=(15,15))\n",
        "sns.heatmap(corr, cmap='RdBu', fmt='.2f', square=True, linecolor='white', annot=True)"
      ],
      "execution_count": 16,
      "outputs": [
        {
          "output_type": "execute_result",
          "data": {
            "text/plain": [
              "<matplotlib.axes._subplots.AxesSubplot at 0x7f6d6d820950>"
            ]
          },
          "metadata": {},
          "execution_count": 16
        },
        {
          "output_type": "display_data",
          "data": {
            "text/plain": [
              "<Figure size 1080x1080 with 2 Axes>"
            ],
            "image/png": "[encoded data removed]"
          },
          "metadata": {
            "needs_background": "light"
          }
        }
      ]
    },
    {
      "cell_type": "markdown",
      "source": [
        "### **Não há correlação entre os dados.**\n",
        "Os dados em análise não apresentam correlação entre si. Porém, eu queria explorar a influência da localidade no preço, através da média de preços por localidade e entender a variação média entre os agrupamentos de bairros, mas não consegui chegar a uma conclusão em ***como executar isso aqui***."
      ],
      "metadata": {
        "id": "wpo2qofbIlOy"
      }
    },
    {
      "cell_type": "markdown",
      "metadata": {
        "id": "7b6RMWpuHKN-"
      },
      "source": [
        "### **Q5. Qual o tipo de imóvel mais alugado no Airbnb?**"
      ]
    },
    {
      "cell_type": "code",
      "metadata": {
        "id": "ueLPNWvPHgfB",
        "colab": {
          "base_uri": "https://localhost:8080/"
        },
        "outputId": "49ca6326-921d-45eb-8dc1-cd3594df58fc"
      },
      "source": [
        "# mostrar a quantidade de cada tipo de imóvel disponível\n",
        "df_clean.room_type.value_counts()"
      ],
      "execution_count": 17,
      "outputs": [
        {
          "output_type": "execute_result",
          "data": {
            "text/plain": [
              "Entire home/apt    6899\n",
              "Private room       1134\n",
              "Hotel room           98\n",
              "Shared room          54\n",
              "Name: room_type, dtype: int64"
            ]
          },
          "metadata": {},
          "execution_count": 17
        }
      ]
    },
    {
      "cell_type": "code",
      "metadata": {
        "id": "EvwoO-XAHhIm",
        "colab": {
          "base_uri": "https://localhost:8080/"
        },
        "outputId": "6bcf037d-9f4e-41b1-fc0a-b46cd535b29e"
      },
      "source": [
        "# mostrar a porcentagem de cada tipo de imóvel disponível\n",
        "df_clean.room_type.value_counts()/df_clean.room_type.shape"
      ],
      "execution_count": 18,
      "outputs": [
        {
          "output_type": "execute_result",
          "data": {
            "text/plain": [
              "Entire home/apt    0.842883\n",
              "Private room       0.138546\n",
              "Hotel room         0.011973\n",
              "Shared room        0.006597\n",
              "Name: room_type, dtype: float64"
            ]
          },
          "metadata": {},
          "execution_count": 18
        }
      ]
    },
    {
      "cell_type": "markdown",
      "metadata": {
        "id": "MFa5NbnLJMcd"
      },
      "source": [
        "### **Q6. Qual a localidade mais cara do dataset?**\n",
        "\n"
      ]
    },
    {
      "cell_type": "markdown",
      "source": [
        "**<h1>Breve Contexto<h1/>**\n",
        "\n",
        "Portugal é um país dividido em **distritos** que são subdivididos **municípios**. O distrito do Porto, alvo da nossa análise, possui muitos municípios inseridos, e estão representadas neste dataframe sob a nomenclatura de `neighbourhood_group`. Portanto, a análise será feita com base nos municípios, e não nos bairros especificamente.\n"
      ],
      "metadata": {
        "id": "K1AtagMmh3kY"
      }
    },
    {
      "cell_type": "code",
      "metadata": {
        "id": "MD_xa143JZpi",
        "colab": {
          "base_uri": "https://localhost:8080/"
        },
        "outputId": "35ace8d3-e6a1-4480-cc21-cbbb73a6c0a3"
      },
      "source": [
        "# ver preços por municípios, na média\n",
        "df_clean.groupby(['neighbourhood_group']).price.mean().sort_values(ascending=False)[:20]"
      ],
      "execution_count": 32,
      "outputs": [
        {
          "output_type": "execute_result",
          "data": {
            "text/plain": [
              "neighbourhood_group\n",
              "VALE DE CAMBRA          114.266667\n",
              "TROFA                   109.818182\n",
              "SANTO TIRSO             106.333333\n",
              "AROUCA                  103.782609\n",
              "GONDOMAR                 96.791045\n",
              "PAREDES                  88.482759\n",
              "OLIVEIRA DE AZEMÉIS      84.800000\n",
              "VILA DO CONDE            83.402174\n",
              "ESPINHO                  77.223529\n",
              "PÓVOA DE VARZIM          72.343023\n",
              "VALONGO                  71.523810\n",
              "SANTA MARIA DA FEIRA     70.911765\n",
              "VILA NOVA DE GAIA        67.498331\n",
              "PORTO                    64.461538\n",
              "MATOSINHOS               62.981595\n",
              "MAIA                     60.900000\n",
              "SÃO JOÃO DA MADEIRA      49.307692\n",
              "Name: price, dtype: float64"
            ]
          },
          "metadata": {},
          "execution_count": 32
        }
      ]
    },
    {
      "cell_type": "markdown",
      "source": [
        "Podemos identificar que, pela média, o agrupamento de bairros mais caro é **VALE DE CAMBRA**, seguido por **TROFA, SANTO TIRSO e AROUCA**. Estes municípios apresentam a média 63% maior que a média da cidade.\n",
        "\n",
        "OBS.: A princípio, utilizei a coluna `neighbourhood` para este tipo de análise, mas identifiquei que o número de entradas estaria melhor distribuído com a coluna `neighbourhood_group`. Desenhei um breve contexto para a construção da análise no tópico anterior. Dessa forma, o objetivo é evitar amostras irrelevantes que elevariam a média de cada localidade."
      ],
      "metadata": {
        "id": "UVBzPMbTcMM3"
      }
    },
    {
      "cell_type": "code",
      "source": [
        "df_clean.neighbourhood_group.value_counts()"
      ],
      "metadata": {
        "colab": {
          "base_uri": "https://localhost:8080/"
        },
        "id": "6xRPUoArlncp",
        "outputId": "2692fe9e-c2e7-4a8a-c4c1-040c709f6e55"
      },
      "execution_count": 47,
      "outputs": [
        {
          "output_type": "execute_result",
          "data": {
            "text/plain": [
              "PORTO                   6149\n",
              "VILA NOVA DE GAIA        899\n",
              "MATOSINHOS               326\n",
              "VILA DO CONDE            184\n",
              "PÓVOA DE VARZIM          172\n",
              "ESPINHO                   85\n",
              "AROUCA                    69\n",
              "GONDOMAR                  67\n",
              "MAIA                      50\n",
              "SANTA MARIA DA FEIRA      34\n",
              "VALE DE CAMBRA            30\n",
              "PAREDES                   29\n",
              "OLIVEIRA DE AZEMÉIS       25\n",
              "SANTO TIRSO               21\n",
              "VALONGO                   21\n",
              "SÃO JOÃO DA MADEIRA       13\n",
              "TROFA                     11\n",
              "Name: neighbourhood_group, dtype: int64"
            ]
          },
          "metadata": {},
          "execution_count": 47
        }
      ]
    },
    {
      "cell_type": "markdown",
      "source": [
        "No entanto, podemos ver que a discrepância ainda é muito grande entre os dados, com a grande maioria se concentrando na Cidade do Porto. Portanto, voltemos a nossa análise para os bairros, com a variável `neighbourhood`. \n",
        "\n",
        "Por isso, vou criar um filtro para exibir e analisar apenas dados da variável `neighbourhood` que possuem um número de entradas superior a 20 e obter uma análise mais precisa."
      ],
      "metadata": {
        "id": "ukzURul0ltQ3"
      }
    },
    {
      "cell_type": "code",
      "source": [
        "# ver os preços médios por bairro\n",
        "df_clean.groupby(['neighbourhood']).price.mean().sort_values(ascending=False)"
      ],
      "metadata": {
        "colab": {
          "base_uri": "https://localhost:8080/"
        },
        "id": "InUdLAHomE5x",
        "outputId": "d58080d5-781e-4838-e9e6-63bccefd8b3f"
      },
      "execution_count": 74,
      "outputs": [
        {
          "output_type": "execute_result",
          "data": {
            "text/plain": [
              "neighbourhood\n",
              "Paramos                        295.0\n",
              "Touguinha e Touguinhó          215.0\n",
              "Nogueira e Silva Escura        200.0\n",
              "Balazar                        200.0\n",
              "Covelas                        200.0\n",
              "                               ...  \n",
              "Baguim do Monte (Rio Tinto)     25.0\n",
              "Canelas                         21.0\n",
              "Argoncilhe                      19.0\n",
              "Gandra                          16.0\n",
              "Sanguedo                        13.0\n",
              "Name: price, Length: 138, dtype: float64"
            ]
          },
          "metadata": {},
          "execution_count": 74
        }
      ]
    },
    {
      "cell_type": "code",
      "source": [
        "# criando um filtro para excluir os bairros com amostra baixa e calculando a média deles\n",
        "df1 = df_clean[df_clean['neighbourhood'].map(df_clean['neighbourhood'].value_counts()) > 20]\n",
        "df1.groupby(['neighbourhood']).price.mean().sort_values(ascending=False)"
      ],
      "metadata": {
        "colab": {
          "base_uri": "https://localhost:8080/"
        },
        "id": "zyEltd72oUi5",
        "outputId": "f490f7bc-4787-4e06-ca19-35ed2079700b"
      },
      "execution_count": 82,
      "outputs": [
        {
          "output_type": "execute_result",
          "data": {
            "text/plain": [
              "neighbourhood\n",
              "Gondomar (São Cosme), Valbom e Jovim                    105.909091\n",
              "Vila Chã                                                 95.392857\n",
              "Arouca e Burgo                                           91.181818\n",
              "Aldoar, Foz do Douro e Nevogilde                         84.698529\n",
              "Arcozelo                                                 81.641509\n",
              "Gulpilhares e Valadares                                  79.025000\n",
              "Espinho                                                  78.478261\n",
              "AVer-o-Mar, Amorim e Terroso                             76.914286\n",
              "Canidelo                                                 74.642105\n",
              "Madalena                                                 72.038462\n",
              "Vila do Conde                                            71.060976\n",
              "Lordelo do Ouro e Massarelos                             69.676364\n",
              "Perafita, Lavra e Santa Cruz do Bispo                    68.289474\n",
              "Póvoa de Varzim, Beiriz e Argivai                        67.966942\n",
              "Santa Marinha e São Pedro da Afurada                     67.065760\n",
              "Matosinhos e Leça da Palmeira                            66.069444\n",
              "Cedofeita, Ildefonso, Sé, Miragaia, Nicolau, Vitória     65.933059\n",
              "São Félix da Marinha                                     61.882353\n",
              "Bonfim                                                   60.336085\n",
              "Campanhã                                                 56.822222\n",
              "Ramalde                                                  52.480769\n",
              "Mafamude e Vilar do Paraíso                              50.693252\n",
              "São Mamede de Infesta e Senhora da Hora                  49.327869\n",
              "Paranhos                                                 46.755474\n",
              "Name: price, dtype: float64"
            ]
          },
          "metadata": {},
          "execution_count": 82
        }
      ]
    },
    {
      "cell_type": "code",
      "source": [
        "# checando para ver quantas entradas cada um possui\n",
        "\n",
        "df1.neighbourhood.value_counts()"
      ],
      "metadata": {
        "colab": {
          "base_uri": "https://localhost:8080/"
        },
        "id": "Ali8XXmesf6c",
        "outputId": "577b05bd-9802-417e-c68f-08379c0c592d"
      },
      "execution_count": 83,
      "outputs": [
        {
          "output_type": "execute_result",
          "data": {
            "text/plain": [
              "Cedofeita, Ildefonso, Sé, Miragaia, Nicolau, Vitória    4377\n",
              "Bonfim                                                   848\n",
              "Santa Marinha e São Pedro da Afurada                     441\n",
              "Lordelo do Ouro e Massarelos                             275\n",
              "Paranhos                                                 274\n",
              "Matosinhos e Leça da Palmeira                            216\n",
              "Mafamude e Vilar do Paraíso                              163\n",
              "Aldoar, Foz do Douro e Nevogilde                         136\n",
              "Campanhã                                                 135\n",
              "Póvoa de Varzim, Beiriz e Argivai                        121\n",
              "Ramalde                                                  104\n",
              "Canidelo                                                  95\n",
              "Vila do Conde                                             82\n",
              "Espinho                                                   69\n",
              "São Mamede de Infesta e Senhora da Hora                   61\n",
              "Arcozelo                                                  53\n",
              "Gulpilhares e Valadares                                   40\n",
              "Perafita, Lavra e Santa Cruz do Bispo                     38\n",
              "AVer-o-Mar, Amorim e Terroso                              35\n",
              "São Félix da Marinha                                      34\n",
              "Vila Chã                                                  28\n",
              "Madalena                                                  26\n",
              "Arouca e Burgo                                            22\n",
              "Gondomar (São Cosme), Valbom e Jovim                      22\n",
              "Name: neighbourhood, dtype: int64"
            ]
          },
          "metadata": {},
          "execution_count": 83
        }
      ]
    },
    {
      "cell_type": "code",
      "metadata": {
        "id": "UxVJqJ_3W59I",
        "colab": {
          "base_uri": "https://localhost:8080/",
          "height": 907
        },
        "outputId": "495b4075-d8a4-4967-ca84-e50f0f18e64a"
      },
      "source": [
        "# plotar os imóveis pela latitude-longitude\n",
        "df1.plot(kind=\"scatter\", x='longitude', y='latitude', alpha=0.9, c=df1['price'], s=8, cmap=plt.get_cmap('jet'), figsize=(20,16));"
      ],
      "execution_count": 92,
      "outputs": [
        {
          "output_type": "display_data",
          "data": {
            "text/plain": [
              "<Figure size 1440x1152 with 2 Axes>"
            ],
            "image/png": "[encoded data removed]"
          },
          "metadata": {
            "needs_background": "light"
          }
        }
      ]
    },
    {
      "cell_type": "markdown",
      "metadata": {
        "id": "vTneAMRUYvr1"
      },
      "source": [
        "### **Q7. Qual é a média do mínimo de noites para aluguel (minimum_nights)?**"
      ]
    },
    {
      "cell_type": "code",
      "metadata": {
        "id": "_VzNhrEgY82N",
        "colab": {
          "base_uri": "https://localhost:8080/"
        },
        "outputId": "6e2a3deb-a2d3-41e7-bb1a-e65124174873"
      },
      "source": [
        "# ver a média da coluna `minimum_nights``\n",
        "df_clean.minimum_nights.mean()"
      ],
      "execution_count": 94,
      "outputs": [
        {
          "output_type": "execute_result",
          "data": {
            "text/plain": [
              "2.261087354917532"
            ]
          },
          "metadata": {},
          "execution_count": 94
        }
      ]
    },
    {
      "cell_type": "markdown",
      "metadata": {
        "id": "GkvAg623RjoR"
      },
      "source": [
        "## Conclusões\n",
        "\n",
        "Com essa análise, podemos ver que a maior concentração de imóveis listados está na **Cidade do Porto**, distribuídos principalmente na faixa litorânea.\n",
        "\n",
        "Não foi possível identificar uma correlação entre os dados apresentados neste dataset.\n",
        "\n",
        "Os\n",
        "\n",
        "*OBS 1.: Tentei plotar o gráfico em cima de uma imagem com o mapa do Porto, mas não consegui. Quando avançar para o próximo módulo tentarei novamente.*\n",
        "\n",
        "*OBS 2.: Optei por deixar ao longo da análise a minha linha de raciocínio, incluindo as escolhas e suas justificativas.*"
      ]
    }
  ]
}